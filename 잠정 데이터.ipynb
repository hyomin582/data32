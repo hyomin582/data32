{
 "cells": [
  {
   "cell_type": "code",
   "execution_count": 2,
   "metadata": {},
   "outputs": [
    {
     "name": "stdout",
     "output_type": "stream",
     "text": [
      "Collecting PyQt5\n",
      "  Downloading PyQt5-5.15.9-cp37-abi3-win32.whl (5.4 MB)\n",
      "Collecting PyQt5-sip<13,>=12.11\n",
      "  Downloading PyQt5_sip-12.12.1-cp310-cp310-win32.whl (68 kB)\n",
      "Collecting PyQt5-Qt5>=5.15.2\n",
      "  Downloading PyQt5_Qt5-5.15.2-py3-none-win32.whl (43.4 MB)\n",
      "Installing collected packages: PyQt5-sip, PyQt5-Qt5, PyQt5\n",
      "Successfully installed PyQt5-5.15.9 PyQt5-Qt5-5.15.2 PyQt5-sip-12.12.1\n"
     ]
    }
   ],
   "source": [
    "# !pip install PyQt5"
   ]
  },
  {
   "cell_type": "code",
   "execution_count": 2,
   "metadata": {},
   "outputs": [],
   "source": [
    "import sys\n",
    "from PyQt5.QtWidgets import *\n",
    "import win32com.client\n",
    "import pandas as pd\n",
    "import os"
   ]
  },
  {
   "cell_type": "code",
   "execution_count": 3,
   "metadata": {},
   "outputs": [],
   "source": [
    "g_objCodeMgr = win32com.client.Dispatch('CpUtil.CpStockCode')\n",
    "g_objCpStatus = win32com.client.Dispatch('CpUtil.CpCybos')\n",
    "g_objCpTrade = win32com.client.Dispatch('CpTrade.CpTdUtil')\n"
   ]
  },
  {
   "cell_type": "code",
   "execution_count": 4,
   "metadata": {},
   "outputs": [],
   "source": [
    " \n",
    " \n",
    "# Cp7210 : 종목별 투자자 매매동향(잠정)데이터\n",
    "class Cp7210:\n",
    "    def __init__(self):\n",
    "        self.objRq = None\n",
    "        return\n",
    " \n",
    "    def request(self, investFlag, caller):\n",
    "        maxRqCont = 1\n",
    "        rqCnt = 0\n",
    "        caller.data7210 = []\n",
    "        self.objRq = None\n",
    "        self.objRq = win32com.client.Dispatch(\"CpSysDib.CpSvr7210d\")\n",
    " \n",
    "        while True:\n",
    "            self.objRq.SetInputValue(0, '0')  # 0 전체 1 거래소 2 코스닥 3 업종 4 관심종목\n",
    "            self.objRq.SetInputValue(1, ord('0')) # 0 수량 1 금액\n",
    "            self.objRq.SetInputValue(2, investFlag) # 0 종목 1 외국인 2 기관계 3 보험기타 4 투신..\n",
    "            self.objRq.SetInputValue(3, ord('0')) # 0 상위순 1 하위순\n",
    " \n",
    "            self.objRq.BlockRequest()\n",
    "            rqCnt += 1\n",
    " \n",
    "            # 통신 및 통신 에러 처리\n",
    "            rqStatus = self.objRq.GetDibStatus()\n",
    "            rqRet = self.objRq.GetDibMsg1()\n",
    "            print(\"통신상태\", rqStatus, rqRet)\n",
    "            if rqStatus != 0:\n",
    "                return False\n",
    " \n",
    "            cnt = self.objRq.GetHeaderValue(0)\n",
    "            date = self.objRq.GetHeaderValue(1) # 집계날짜\n",
    "            time = self.objRq.GetHeaderValue(2)  # 집계시간\n",
    "            print(cnt)\n",
    " \n",
    "            for i in range(cnt):\n",
    "                item = {}\n",
    "                item['code'] = self.objRq.GetDataValue(0, i)\n",
    "                item['종목명'] = self.objRq.GetDataValue(1, i)\n",
    "                item['현재가'] = self.objRq.GetDataValue(2, i)\n",
    "                item['대비'] = self.objRq.GetDataValue(3, i)\n",
    "                item['대비율'] = self.objRq.GetDataValue(4, i)\n",
    "                item['거래량'] = self.objRq.GetDataValue(5, i)\n",
    "                item['외국인'] = self.objRq.GetDataValue(6, i)\n",
    "                item['기관계'] = self.objRq.GetDataValue(7, i)\n",
    "                item['보험기타금융'] = self.objRq.GetDataValue(8, i)\n",
    "                item['투신'] = self.objRq.GetDataValue(9, i)\n",
    "                item['은행'] = self.objRq.GetDataValue(10, i)\n",
    "                item['연기금'] = self.objRq.GetDataValue(11, i)\n",
    "                item['국가지자체'] = self.objRq.GetDataValue(12, i)\n",
    "                item['기타법인'] = self.objRq.GetDataValue(13, i)\n",
    " \n",
    "                caller.data7210.append(item)\n",
    " \n",
    "            if rqCnt >= maxRqCont:\n",
    "                break\n",
    " \n",
    "            if self.objRq.Continue == False:\n",
    "                break\n",
    "        return True\n"
   ]
  },
  {
   "cell_type": "code",
   "execution_count": 6,
   "metadata": {},
   "outputs": [],
   "source": [
    "class MyWindow(QMainWindow):\n",
    "    def __init__(self):\n",
    "        super().__init__()\n",
    " \n",
    "        self.setWindowTitle(\"종목별 투자자 매매동향(잠정)\")\n",
    "        self.setGeometry(300, 300, 300, 180)\n",
    " \n",
    "        self.obj7210 = Cp7210()\n",
    "        self.data7210 = []\n",
    " \n",
    "        nH = 20\n",
    "        btnOpt1 = QPushButton('기관계 상위', self)\n",
    "        btnOpt1.move(20, nH)\n",
    "        btnOpt1.clicked.connect(self.btnOpt1_clicked)\n",
    "        nH += 50\n",
    " \n",
    "        btnOpt2 = QPushButton('외국인 상위', self)\n",
    "        btnOpt2.move(20, nH)\n",
    "        btnOpt2.clicked.connect(self.btnOpt2_clicked)\n",
    "        nH += 50\n",
    " \n",
    "        btnPrint = QPushButton('print', self)\n",
    "        btnPrint.move(20, nH)\n",
    "        btnPrint.clicked.connect(self.btnPrint_clicked)\n",
    "        nH += 50\n",
    " \n",
    "        btnExcel = QPushButton('엑셀 내보내기', self)\n",
    "        btnExcel.move(20, nH)\n",
    "        btnExcel.clicked.connect(self.btnExcel_clicked)\n",
    "        nH += 50\n",
    " \n",
    " \n",
    "        btnExit = QPushButton('종료', self)\n",
    "        btnExit.move(20, nH)\n",
    "        btnExit.clicked.connect(self.btnExit_clicked)\n",
    "        nH += 50\n",
    "        self.setGeometry(300, 300, 300, nH)\n",
    " \n",
    " \n",
    "    # 기관계 상위\n",
    "    def btnOpt1_clicked(self):\n",
    "        self.obj7210.request(2, self)\n",
    "        return\n",
    " \n",
    "    # 외국인 상위\n",
    "    def btnOpt2_clicked(self):\n",
    "        self.obj7210.request(1, self)\n",
    "        return\n",
    " \n",
    " \n",
    "    def btnPrint_clicked(self):\n",
    "        for item in self.data7210:\n",
    "            print(item)\n",
    "        return\n",
    " \n",
    "    # 엑셀 내보내기\n",
    "    def btnExcel_clicked(self):\n",
    "        excelfile = '7210.xlsx'\n",
    "        df = pd.DataFrame(columns=['code','종목명', '현재가', '대비', '대비율', '거래량', '외국인', '기관계',\n",
    "                                              '보험기타금융', '투신','은행','연기금','국가지자체','기타법인'])\n",
    " \n",
    "        for item in self.data7210:\n",
    "            df.loc[(len(df))] = item\n",
    " \n",
    "        # create a Pandas Excel writer using XlsxWriter as the engine.\n",
    "        writer = pd.ExcelWriter(excelfile, engine='xlsxwriter')\n",
    "\n",
    "        # Convert the dataframe to an XlsxWriter Excel object.\n",
    "        df.to_excel(writer, sheet_name='Sheet1')\n",
    "        \n",
    "        # Close the Pandas Excel writer and output the Excel file.\n",
    "        writer.save()\n",
    "        os.startfile(excelfile)\n",
    "        return\n",
    " \n",
    "    def btnExit_clicked(self):\n",
    "        exit()\n",
    "        return"
   ]
  },
  {
   "cell_type": "code",
   "execution_count": 7,
   "metadata": {},
   "outputs": [
    {
     "ename": "",
     "evalue": "",
     "output_type": "error",
     "traceback": [
      "\u001b[1;31m코드를 실행할 수 없습니다. 세션이 삭제되었습니다. 커널을 다시 시작해 보세요."
     ]
    },
    {
     "ename": "",
     "evalue": "",
     "output_type": "error",
     "traceback": [
      "\u001b[1;31m현재 셀 또는 이전 셀에서 코드를 실행하는 동안 Kernel이 충돌했습니다. 셀의 코드를 검토하여 오류의 가능한 원인을 식별하세요. 자세한 내용을 보려면 <a href='https://aka.ms/vscodeJupyterKernelCrash'> 여기 </a> 를 클릭하세요. 자세한 내용은 Jupyter <a href='command:jupyter.viewOutput'>로그</a>를 참조하세요."
     ]
    }
   ],
   "source": [
    "if __name__ == \"__main__\":\n",
    "    app = QApplication(sys.argv)\n",
    "    myWindow = MyWindow()\n",
    "    myWindow.show()\n",
    "    app.exec_()"
   ]
  }
 ],
 "metadata": {
  "kernelspec": {
   "display_name": "data32",
   "language": "python",
   "name": "python3"
  },
  "language_info": {
   "codemirror_mode": {
    "name": "ipython",
    "version": 3
   },
   "file_extension": ".py",
   "mimetype": "text/x-python",
   "name": "python",
   "nbconvert_exporter": "python",
   "pygments_lexer": "ipython3",
   "version": "3.10.4"
  },
  "orig_nbformat": 4
 },
 "nbformat": 4,
 "nbformat_minor": 2
}
